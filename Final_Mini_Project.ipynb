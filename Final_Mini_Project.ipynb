{
 "cells": [
  {
   "cell_type": "code",
   "execution_count": 5,
   "id": "98331a33-5d69-466e-ac9b-a41f2941e522",
   "metadata": {},
   "outputs": [
    {
     "name": "stdout",
     "output_type": "stream",
     "text": [
      "Requirement already satisfied: selenium in c:\\users\\harkp\\appdata\\local\\programs\\python\\python311\\lib\\site-packages (4.22.0)\n",
      "Requirement already satisfied: beautifulsoup4 in c:\\users\\harkp\\appdata\\local\\programs\\python\\python311\\lib\\site-packages (4.12.3)\n",
      "Requirement already satisfied: pandas in c:\\users\\harkp\\appdata\\local\\programs\\python\\python311\\lib\\site-packages (2.1.3)\n",
      "Requirement already satisfied: urllib3<3,>=1.26 in c:\\users\\harkp\\appdata\\local\\programs\\python\\python311\\lib\\site-packages (from urllib3[socks]<3,>=1.26->selenium) (2.2.1)\n",
      "Requirement already satisfied: trio~=0.17 in c:\\users\\harkp\\appdata\\local\\programs\\python\\python311\\lib\\site-packages (from selenium) (0.25.1)\n",
      "Requirement already satisfied: trio-websocket~=0.9 in c:\\users\\harkp\\appdata\\local\\programs\\python\\python311\\lib\\site-packages (from selenium) (0.11.1)\n",
      "Requirement already satisfied: certifi>=2021.10.8 in c:\\users\\harkp\\appdata\\local\\programs\\python\\python311\\lib\\site-packages (from selenium) (2024.2.2)\n",
      "Requirement already satisfied: typing_extensions>=4.9.0 in c:\\users\\harkp\\appdata\\local\\programs\\python\\python311\\lib\\site-packages (from selenium) (4.9.0)\n",
      "Requirement already satisfied: websocket-client>=1.8.0 in c:\\users\\harkp\\appdata\\local\\programs\\python\\python311\\lib\\site-packages (from selenium) (1.8.0)\n",
      "Requirement already satisfied: soupsieve>1.2 in c:\\users\\harkp\\appdata\\local\\programs\\python\\python311\\lib\\site-packages (from beautifulsoup4) (2.5)\n",
      "Requirement already satisfied: numpy<2,>=1.23.2 in c:\\users\\harkp\\appdata\\local\\programs\\python\\python311\\lib\\site-packages (from pandas) (1.26.2)\n",
      "Requirement already satisfied: python-dateutil>=2.8.2 in c:\\users\\harkp\\appdata\\local\\programs\\python\\python311\\lib\\site-packages (from pandas) (2.8.2)\n",
      "Requirement already satisfied: pytz>=2020.1 in c:\\users\\harkp\\appdata\\local\\programs\\python\\python311\\lib\\site-packages (from pandas) (2023.3.post1)\n",
      "Requirement already satisfied: tzdata>=2022.1 in c:\\users\\harkp\\appdata\\local\\programs\\python\\python311\\lib\\site-packages (from pandas) (2023.3)\n",
      "Requirement already satisfied: six>=1.5 in c:\\users\\harkp\\appdata\\local\\programs\\python\\python311\\lib\\site-packages (from python-dateutil>=2.8.2->pandas) (1.16.0)\n",
      "Requirement already satisfied: attrs>=23.2.0 in c:\\users\\harkp\\appdata\\local\\programs\\python\\python311\\lib\\site-packages (from trio~=0.17->selenium) (23.2.0)\n",
      "Requirement already satisfied: sortedcontainers in c:\\users\\harkp\\appdata\\local\\programs\\python\\python311\\lib\\site-packages (from trio~=0.17->selenium) (2.4.0)\n",
      "Requirement already satisfied: idna in c:\\users\\harkp\\appdata\\local\\programs\\python\\python311\\lib\\site-packages (from trio~=0.17->selenium) (3.6)\n",
      "Requirement already satisfied: outcome in c:\\users\\harkp\\appdata\\local\\programs\\python\\python311\\lib\\site-packages (from trio~=0.17->selenium) (1.3.0.post0)\n",
      "Requirement already satisfied: sniffio>=1.3.0 in c:\\users\\harkp\\appdata\\local\\programs\\python\\python311\\lib\\site-packages (from trio~=0.17->selenium) (1.3.1)\n",
      "Requirement already satisfied: cffi>=1.14 in c:\\users\\harkp\\appdata\\local\\programs\\python\\python311\\lib\\site-packages (from trio~=0.17->selenium) (1.16.0)\n",
      "Requirement already satisfied: wsproto>=0.14 in c:\\users\\harkp\\appdata\\local\\programs\\python\\python311\\lib\\site-packages (from trio-websocket~=0.9->selenium) (1.2.0)\n",
      "Requirement already satisfied: pysocks!=1.5.7,<2.0,>=1.5.6 in c:\\users\\harkp\\appdata\\local\\programs\\python\\python311\\lib\\site-packages (from urllib3[socks]<3,>=1.26->selenium) (1.7.1)\n",
      "Requirement already satisfied: pycparser in c:\\users\\harkp\\appdata\\local\\programs\\python\\python311\\lib\\site-packages (from cffi>=1.14->trio~=0.17->selenium) (2.22)\n",
      "Requirement already satisfied: h11<1,>=0.9.0 in c:\\users\\harkp\\appdata\\local\\programs\\python\\python311\\lib\\site-packages (from wsproto>=0.14->trio-websocket~=0.9->selenium) (0.14.0)\n"
     ]
    },
    {
     "name": "stderr",
     "output_type": "stream",
     "text": [
      "\n",
      "[notice] A new release of pip is available: 23.3.1 -> 24.1.1\n",
      "[notice] To update, run: python.exe -m pip install --upgrade pip\n"
     ]
    }
   ],
   "source": [
    "!pip install selenium beautifulsoup4 pandas"
   ]
  },
  {
   "cell_type": "code",
   "execution_count": 6,
   "id": "95632059-abd4-4108-9c2a-fcdafca14353",
   "metadata": {},
   "outputs": [],
   "source": [
    "import requests\n",
    "from bs4 import BeautifulSoup\n",
    "import pandas as pd\n",
    "import time\n",
    "from selenium import webdriver\n",
    "from selenium.webdriver.common.by import By\n",
    "from selenium.webdriver.common.keys import Keys\n",
    "from selenium.webdriver.support.ui import WebDriverWait\n",
    "from selenium.webdriver.support import expected_conditions as EC\n"
   ]
  },
  {
   "cell_type": "code",
   "execution_count": 7,
   "id": "a7a98eb2-22dd-4079-8aa2-7045a5d09670",
   "metadata": {},
   "outputs": [],
   "source": [
    "# Function to initialize WebDriver\n",
    "def initialize_driver():\n",
    "    options = webdriver.ChromeOptions()\n",
    "    options.add_argument('--ignore-certificate-errors')\n",
    "    options.add_argument('--incognito')\n",
    "    # options.add_argument('--headless')  # Uncomment this line to run Chrome in headless mode\n",
    "    driver = webdriver.Chrome(options=options)\n",
    "    return driver\n"
   ]
  },
  {
   "cell_type": "code",
   "execution_count": 8,
   "id": "87c5cb51-e7b9-4a71-8eb0-7d2cda48939b",
   "metadata": {},
   "outputs": [],
   "source": [
    "# Initialize the WebDriver (e.g., for Chrome)\n",
    "driver = initialize_driver()\n",
    "\n",
    "# Define the URL\n",
    "url = 'https://www.cars24.com/buy-used-car?f=make%3A%3D%3Ahyundai&sort=bestmatch&serveWarrantyCount=true&listingSource=Homepage_Filters&storeCityId=2378'\n",
    "\n",
    "# Open the URL\n",
    "driver.get(url)\n"
   ]
  },
  {
   "cell_type": "code",
   "execution_count": 9,
   "id": "08593700-6a0f-4e7c-b0a6-1ee621343774",
   "metadata": {},
   "outputs": [],
   "source": [
    "# Wait for the page to load and display the cars\n",
    "wait = WebDriverWait(driver, 10)\n",
    "cars_loaded = wait.until(EC.presence_of_all_elements_located((By.CLASS_NAME, '_2YB7p')))\n"
   ]
  },
  {
   "cell_type": "code",
   "execution_count": 10,
   "id": "4f9a98cb-29ee-40ce-b386-9e88cd9a87b3",
   "metadata": {},
   "outputs": [],
   "source": [
    "# Scroll and load all cars\n",
    "last_height = driver.execute_script(\"return document.body.scrollHeight\")\n",
    "while True:\n",
    "    # Scroll to the bottom of the page to load more cars\n",
    "    driver.find_element(By.TAG_NAME, 'body').send_keys(Keys.END)\n",
    "    time.sleep(2)  # Give time for the next batch of cars to load\n",
    "    \n",
    "    # Calculate new scroll height and compare with last scroll height\n",
    "    new_height = driver.execute_script(\"return document.body.scrollHeight\")\n",
    "    if new_height == last_height:\n",
    "        break  # Break the loop if no more cars are loaded\n",
    "    last_height = new_height\n"
   ]
  },
  {
   "cell_type": "code",
   "execution_count": 11,
   "id": "b5b7b280-31c3-41f8-8428-d24123028a0c",
   "metadata": {},
   "outputs": [],
   "source": [
    "# Once all cars are loaded, get the page source and parse it with BeautifulSoup\n",
    "soup = BeautifulSoup(driver.page_source, 'html.parser')\n",
    "driver.quit()\n"
   ]
  },
  {
   "cell_type": "code",
   "execution_count": 12,
   "id": "007a49f8-9a26-4bdd-b942-2f7ba9af8849",
   "metadata": {},
   "outputs": [],
   "source": [
    "# Initialize lists to store the data\n",
    "names = []\n",
    "kilometers_driven = []\n",
    "fuel_type = []\n",
    "transmission = []\n",
    "price = []\n"
   ]
  },
  {
   "cell_type": "code",
   "execution_count": 13,
   "id": "7f6521d1-cb07-4a8a-ae5a-e3c512ee5195",
   "metadata": {},
   "outputs": [],
   "source": [
    "# Scrape the data\n",
    "cars = soup.find_all('div', class_='_2YB7p')\n",
    "for car in cars:\n",
    "    names.append(car.find('h3').get_text())\n",
    "    km = car.find('ul', {'class': '_3J2G-'}).find_all('li')[0].get_text()\n",
    "    fuel = car.find('ul', {'class': '_3J2G-'}).find_all('li')[2].get_text()\n",
    "    trans = car.find('ul', {'class': '_3J2G-'}).find_all('li')[-1].get_text()\n",
    "    pr = car.find('strong', {'class': '_3RL-I'}).get_text()\n",
    "\n",
    "    kilometers_driven.append(km)\n",
    "    fuel_type.append(fuel)\n",
    "    transmission.append(trans)\n",
    "    price.append(pr)\n"
   ]
  },
  {
   "cell_type": "code",
   "execution_count": 14,
   "id": "3edbeaac-17b3-4c30-ba29-a5c43245fdc0",
   "metadata": {},
   "outputs": [
    {
     "name": "stdout",
     "output_type": "stream",
     "text": [
      "Data has been saved to cars_data.csv\n"
     ]
    }
   ],
   "source": [
    "# Create a dictionary with the data\n",
    "data = {\n",
    "    'Name': names,\n",
    "    'Kilometers Driven': kilometers_driven,\n",
    "    'Fuel Type': fuel_type,\n",
    "    'Transmission': transmission,\n",
    "    'Price': price\n",
    "}\n",
    "\n",
    "# Convert the dictionary to a DataFrame\n",
    "df = pd.DataFrame(data)\n",
    "\n",
    "# Save the DataFrame to a CSV file\n",
    "df.to_csv('cars_data.csv', index=False)\n",
    "\n",
    "print(\"Data has been saved to cars_data.csv\")\n"
   ]
  },
  {
   "cell_type": "code",
   "execution_count": 15,
   "id": "455eebca-bfd6-4d45-add5-b8bdf36c53a4",
   "metadata": {},
   "outputs": [
    {
     "name": "stdout",
     "output_type": "stream",
     "text": [
      "['2014 Hyundai Xcent S 1.2', '2015 Hyundai Elite i20 SPORTZ 1.2', '2016 Hyundai Elite i20 ASTA 1.2 (O)', '2015 Hyundai Elite i20 MAGNA 1.2', '2016 Hyundai Elite i20 SPORTZ 1.2', '2018 Hyundai Elite i20 ASTA 1.2 (O)', '2016 Hyundai Creta SX PLUS AT 1.6 PETROL', '2015 Hyundai Grand i10 ASTA AT 1.2 KAPPA VTVT', '2015 Hyundai Elite i20 SPORTZ 1.2 (O)', '2018 Hyundai Grand i10 MAGNA 1.2 KAPPA VTVT', '2016 Hyundai Grand i10 SPORTZ 1.2 KAPPA VTVT', '2017 Hyundai Elite i20 SPORTZ 1.2', '2021 Hyundai VENUE SX 1.0 TURBO IMT', '2021 Hyundai VENUE SX PLUS 1.0 TURBO DCT', '2016 Hyundai Elite i20 MAGNA 1.2', '2019 Hyundai GRAND I10 NIOS SPORTZ 1.2 KAPPA VTVT DUAL TONE', '2014 Hyundai Eon MAGNA +', '2019 Hyundai VENUE SX 1.0 (O) TURBO', '2021 Hyundai VENUE S 1.0 TURBO IMT', '2019 Hyundai VENUE SX 1.0 TURBO', '2018 Hyundai NEW SANTRO MAGNA CNG', '2014 Hyundai Elite i20 SPORTZ 1.2', '2017 Hyundai Elite i20 SPORTZ 1.2', '2016 Hyundai Elite i20 ASTA 1.2', '2014 Hyundai Xcent BASE 1.2', '2016 Hyundai Grand i10 ASTA AT 1.2 KAPPA VTVT', '2017 Hyundai Creta E PLUS 1.6 PETROL', '2016 Hyundai Elite i20 SPORTZ 1.2', '2021 Hyundai NEW I20 ASTA 1.2 AT', '2018 Hyundai Grand i10 SPORTZ AT 1.2 KAPPA VTVT', '2016 Hyundai Grand i10 MAGNA 1.2 KAPPA VTVT', '2014 Hyundai Elite i20 SPORTZ 1.2', '2021 Hyundai VENUE SX 1.0 TURBO', '2014 Hyundai Verna FLUIDIC 1.6 VTVT SX', '2013 Hyundai i20 SPORTZ 1.2', '2018 Hyundai Elite i20 ASTA 1.4 CRDI (O)', '2015 Hyundai Creta S 1.6 PETROL', '2017 Hyundai Grand i10 SPORTZ 1.2 KAPPA VTVT', '2015 Hyundai Elite i20 SPORTZ 1.2 (O)', '2019 Hyundai Elite i20 ASTA 1.2  CVT', '2016 Hyundai Creta E PLUS 1.6 PETROL', '2016 Hyundai Elite i20 ASTA 1.2', '2014 Hyundai i20 SPORTZ 1.2', '2018 Hyundai Grand i10 MAGNA U2 1.2 CRDI', '2018 Hyundai Creta SX PLUS 1.6 PETROL DUAL TONE', '2016 Hyundai Xcent S 1.2', '2019 Hyundai GRAND I10 NIOS SPORTZ AMT 1.2 KAPPA VTVT', '2011 Hyundai i20 SPORTZ 1.2', '2017 Hyundai Elite i20 SPORTZ 1.2', '2018 Hyundai New Elantra 1.6 SX (O) AT DIESEL', '2016 Hyundai Creta BASE 1.6 PETROL', '2016 Hyundai Elite i20 ASTA 1.2', '2014 Hyundai Grand i10 SPORTZ 1.2 KAPPA VTVT', '2018 Hyundai Creta SX (O) 1.6 DIESEL', '2011 Hyundai i10 MAGNA 1.1', '2019 Hyundai New Elantra 2.0 SX(O) AT PETROL', '2014 Hyundai i10 SPORTZ 1.1', '2011 Hyundai i10 SPORTZ 1.2', '2016 Hyundai Elite i20 SPORTZ 1.2', '2015 Hyundai Elite i20 SPORTZ 1.2', '2018 Hyundai Creta SX (O) 1.6 PETROL', '2017 Hyundai Creta SX PLUS AT 1.6 DIESEL', '2019 Hyundai Creta SX 1.6 PETROL', '2018 Hyundai Creta SX AT 1.6 DIESEL', '2016 Hyundai Creta SX PLUS AT 1.6 PETROL', '2014 Hyundai Grand i10 SPORTZ 1.2 KAPPA VTVT', '2013 Hyundai i10 MAGNA 1.2', '2019 Hyundai Creta SX 1.6 PETROL', '2017 Hyundai Grand i10 SPORTZ 1.2 KAPPA VTVT', '2016 Hyundai Elite i20 ASTA 1.2', '2016 Hyundai Creta S 1.6 PETROL', '2021 Hyundai AURA S 1.2 CNG', '2016 Hyundai Elite i20 SPORTZ 1.2', '2022 Hyundai AURA SX PLUS 1.2 AMT', '2017 Hyundai Grand i10 ASTA 1.2 KAPPA VTVT', '2018 Hyundai Grand i10 MAGNA 1.2 KAPPA VTVT', '2017 Hyundai Creta E PLUS 1.6 PETROL', '2018 Hyundai Grand i10 SPORTZ (O) AT 1.2 KAPPA VTVT', '2017 Hyundai Creta SX PLUS AT 1.6 PETROL', '2015 Hyundai Xcent S 1.2', '2017 Hyundai Grand i10 MAGNA 1.2 KAPPA VTVT', '2014 Hyundai Elite i20 SPORTZ 1.2', '2016 Hyundai Creta SX PLUS AT 1.6 DIESEL', '2015 Hyundai i10 MAGNA 1.1', '2014 Hyundai Xcent S 1.2', '2013 Hyundai i10 SPORTZ 1.2', '2017 Hyundai Creta E PLUS 1.6 PETROL', '2014 Hyundai Elite i20 SPORTZ 1.2', '2018 Hyundai Grand i10 MAGNA 1.2 KAPPA VTVT', '2015 Hyundai Elite i20 SPORTZ 1.2', '2017 Hyundai Creta E PLUS 1.6 PETROL', '2017 Hyundai Grand i10 SPORTZ (O) AT 1.2 KAPPA VTVT', '2019 Hyundai NEW SANTRO SPORTZ CNG', '2016 Hyundai Elite i20 ASTA 1.2', '2016 Hyundai Grand i10 MAGNA 1.2 KAPPA VTVT', '2017 Hyundai Creta E PLUS 1.6 PETROL', '2022 Hyundai GRAND I10 NIOS SPORTZ 1.2 KAPPA VTVT CNG', '2012 Hyundai i10 SPORTZ 1.2', '2017 Hyundai Creta E PLUS 1.6 PETROL', '2016 Hyundai Creta SX PLUS AT 1.6 PETROL', '2017 Hyundai Creta SX PLUS AT 1.6 PETROL', '2014 Hyundai Xcent S 1.2', '2017 Hyundai Creta SX PLUS AT 1.6 PETROL', '2018 Hyundai Creta SX AT 1.6 PETROL', '2021 Hyundai GRAND I10 NIOS SPORTZ AMT 1.2 KAPPA VTVT', '2018 Hyundai Creta SX AT 1.6 PETROL', '2015 Hyundai i10 SPORTZ 1.1', '2016 Hyundai Creta SX PLUS AT 1.6 PETROL', '2016 Hyundai Creta SX PLUS 1.6 PETROL', '2015 Hyundai Creta SX 1.6 DIESEL', '2017 Hyundai Grand i10 SPORTZ (O) AT 1.2 KAPPA VTVT', '2020 Hyundai GRAND I10 NIOS ASTA AMT 1.2 KAPPA VTVT', '2016 Hyundai Creta SX PLUS AT 1.6 PETROL', '2018 Hyundai Grand i10 SPORTZ 1.2 KAPPA VTVT', '2019 Hyundai NEW SANTRO SPORTZ CNG', '2018 Hyundai Grand i10 SPORTZ 1.2 KAPPA VTVT', '2015 Hyundai Grand i10 ASTA AT 1.2 KAPPA VTVT', '2012 Hyundai i10 SPORTZ 1.2', '2016 Hyundai Creta S 1.6 PETROL', '2015 Hyundai Elite i20 MAGNA 1.2', '2011 Hyundai i20 ASTA 1.2', '2012 Hyundai i20 SPORTZ 1.2', '2015 Hyundai i10 MAGNA 1.1', '2012 Hyundai i20 MAGNA 1.2', '2015 Hyundai Xcent SX 1.2', '2014 Hyundai i10 SPORTZ 1.1', '2020 Hyundai AURA SX PLUS 1.2 AMT CRDI', '2021 Hyundai Creta SX (O) 1.4 TURBO DCT', '2016 Hyundai Creta SX PLUS 1.6 PETROL', '2014 Hyundai Elite i20 SPORTZ 1.4 CRDI', '2018 Hyundai Grand i10 ASTA 1.2 KAPPA VTVT', '2017 Hyundai Elite i20 SPORTZ 1.2', '2022 Hyundai GRAND I10 NIOS SPORTZ 1.2 KAPPA VTVT CNG', '2014 Hyundai Grand i10 ASTA 1.2 KAPPA VTVT', '2014 Hyundai Grand i10 ASTA AT 1.2 KAPPA VTVT', '2019 Hyundai NEW SANTRO MAGNA', '2011 Hyundai i20 SPORTZ (O) 1.2', '2015 Hyundai Xcent S 1.2', '2011 Hyundai i10 MAGNA 1.2', '2017 Hyundai Creta SX PLUS AT 1.6 PETROL', '2011 Hyundai i10 SPORTZ 1.2 AT', '2017 Hyundai Creta E PLUS 1.6 PETROL', '2019 Hyundai VENUE E 1.2', '2016 Hyundai i20 Active 1.2 SX', '2017 Hyundai Verna 1.6 VTVT S AT', '2015 Hyundai Grand i10 SPORTZ 1.2 KAPPA VTVT', '2013 Hyundai Verna FLUIDIC 1.6 VTVT SX', '2016 Hyundai Creta SX PLUS 1.6 DIESEL', '2017 Hyundai New Elantra 1.6 SX AT O', '2017 Hyundai New Elantra 2.0 SX(O) AT PETROL', '2019 Hyundai VENUE S 1.2', '2021 Hyundai AURA SX 1.2 (O)', '2013 Hyundai i10 MAGNA 1.1', '2016 Hyundai Elite i20 SPORTZ 1.2']\n"
     ]
    }
   ],
   "source": [
    "print(names)"
   ]
  },
  {
   "cell_type": "code",
   "execution_count": 16,
   "id": "bb821a3f-4fe6-4462-b44e-c6e68fc2beca",
   "metadata": {},
   "outputs": [
    {
     "data": {
      "text/plain": [
       "154"
      ]
     },
     "execution_count": 16,
     "metadata": {},
     "output_type": "execute_result"
    }
   ],
   "source": [
    "len(names)"
   ]
  },
  {
   "cell_type": "code",
   "execution_count": null,
   "id": "5c52e409-bce1-4a92-9860-087d26b386ef",
   "metadata": {},
   "outputs": [],
   "source": []
  }
 ],
 "metadata": {
  "kernelspec": {
   "display_name": "Python 3 (ipykernel)",
   "language": "python",
   "name": "python3"
  },
  "language_info": {
   "codemirror_mode": {
    "name": "ipython",
    "version": 3
   },
   "file_extension": ".py",
   "mimetype": "text/x-python",
   "name": "python",
   "nbconvert_exporter": "python",
   "pygments_lexer": "ipython3",
   "version": "3.11.5"
  }
 },
 "nbformat": 4,
 "nbformat_minor": 5
}
